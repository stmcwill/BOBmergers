{
  "nbformat": 4,
  "nbformat_minor": 0,
  "metadata": {
    "colab": {
      "name": "bob.ipynb",
      "provenance": [],
      "include_colab_link": true
    },
    "language_info": {
      "codemirror_mode": {
        "name": "ipython",
        "version": 3
      },
      "file_extension": ".py",
      "mimetype": "text/x-python",
      "name": "python",
      "nbconvert_exporter": "python",
      "pygments_lexer": "ipython3",
      "version": "3.6.7"
    },
    "kernelspec": {
      "display_name": "Python 3",
      "language": "python",
      "name": "python3"
    }
  },
  "cells": [
    {
      "cell_type": "markdown",
      "metadata": {
        "id": "view-in-github",
        "colab_type": "text"
      },
      "source": [
        "<a href=\"https://colab.research.google.com/github/stmcwill/BOBmergers/blob/master/bob.ipynb\" target=\"_parent\"><img src=\"https://colab.research.google.com/assets/colab-badge.svg\" alt=\"Open In Colab\"/></a>"
      ]
    },
    {
      "cell_type": "code",
      "metadata": {
        "id": "rDD_iJisMrAy"
      },
      "source": [
        "import numpy as np\n",
        "import scipy\n",
        "from scipy.spatial import cKDTree\n",
        "from scipy import interpolate\n",
        "import matplotlib.pyplot as plt\n",
        "\n",
        "i = complex(0,1)"
      ],
      "execution_count": null,
      "outputs": []
    },
    {
      "cell_type": "code",
      "metadata": {
        "id": "auXP3jMlMrA4",
        "outputId": "5ed56b4d-d30b-4efd-da70-abc73fb7fecb",
        "colab": {
          "base_uri": "https://localhost:8080/",
          "height": 739
        }
      },
      "source": [
        "def bob(af, Mf, tp, phip, dt, tmax):\n",
        "    \n",
        "    # SYNTAX: [t,h] = bob(af,Mf,tp,phip,dt)\n",
        "    # Computes the l = m = 2 mode strain for times t > tp using BOB^(TM)\n",
        "    #   Input:\n",
        "    #     af   -> final dimensionless spin of merged remnant\n",
        "    #     Mf   -> final mass of merged remnant, assuming ADM mass M = 1\n",
        "    #     tp   -> desired time of peak strain, in units of Mf (defaults to 0)\n",
        "    #     phip -> desired polarization phase, atan(hx/h+), at t = tp (defaults to 0)\n",
        "    #     dt   -> desired sampling cadence of output, in units of Mf (defaults to 1)\n",
        "    #     tmax -> desired amount of time after peak, in units of Mf (defaults to 100) \n",
        "    #   Output:\n",
        "    #     t    -> output time array\n",
        "    #     h    -> output complex strain, h = h+ + i*hx\n",
        "    #\n",
        "    \n",
        "    #Physical parameters\n",
        "    Mhalf = 1 - (1 - Mf) / 2                    #mass after half of the total energy that will be emitted in GWs is gone, roughly appropriate for normalizing the peak strain\n",
        "\n",
        "    #Time alignment parameters\n",
        "    pct = 0.99                    #fractional amplitude to be used for peak finding, i.e. all amplitude data > pct*Apeak is fit to a parabola to find the interpolated peak\n",
        "    tmin = -150                    #time range for psi4, NOT h. psi4 will peak at t=0, h will ultimately be shifted to peak at t=tp\n",
        "    t = np.arange(tmin,tmax+dt,dt)          #array of times, ranges from tmin to tmax in steps of dt\n",
        "\n",
        "   #reference frequencies, capital letters for orbital quantities, lowercase for GW quantities\n",
        "    Omisco = (-0.091933 * af + 0.097593) / (af ** 2 - 2.4228 * af + 1.4366)                    #my fit, good to O(0.1%) for af < 0.99\n",
        "    omqnm = 1.5251 - 1.1568 * (1 - af) ** 0.1292                    #Berti fit, from gr-qc/0512160\n",
        "    omqnm = omqnm / Mf\n",
        "    Omqnm = omqnm / 2                    #orbital frequency for null perturbation sourcing the l=m=2 QNM\n",
        "    Q = 0.7 + 1.4187 * (1 - af) ** (-0.499)                    #Berti fit, from gr-qc/0512160\n",
        "    tau = Q / omqnm\n",
        "    Tau = 2 * tau                    #orbital Lyapunov-based e-folding time for amplitude of l=m=2\n",
        "\n",
        "    #Amplitude\n",
        "    Ap = 1.068 * (1 - Mf) ** 0.8918           #my fit to SXS sims, good to O(1%) for all cases with NR errors that small\n",
        "    A = Ap / np.cosh(t / Tau)                    #psi4 amplitude, will peak at t=0\n",
        "\n",
        "    #Orbital frequency, see BOB paper for derivation\n",
        "    Omref = Omisco * (1 - af)                    #lim(t -> -Inf) Omega, generally 0 <= Omref <= Omisco, this choice empirically works best at early times\n",
        "    #NB: the choice of Omref has essentially no effect near, at, or after the\n",
        "    #psi4 peak, it only affects things ~10M before the peak or earlier, but\n",
        "    #since tp_strain < tp_psi4, this choice will affect the strain peak frequency by a few %\n",
        "    Omp = ((Omqnm ** 4 + Omref ** 4) / 2) ** (1 / 4)\n",
        "    Omm = ((Omqnm ** 4 - Omref ** 4) / 2) ** (1 / 4)\n",
        "    Om = (Omp ** 4 + Omm ** 4 * np.tanh(t / Tau)) ** (1 / 4)\n",
        "    #NB: if Omref = 0, then Om = Omqnm*((1 + tanh(t/Tau))/2)^(1/4);\n",
        "\n",
        "    #Orbital phase, see BOB paper for derivation\n",
        "    kappap = (Omp ** 4 - Omm ** 4) ** (1 / 4)\n",
        "    kappam = (Omp ** 4 + Omm ** 4) ** (1 / 4)\n",
        "    z1 = Om/kappam+0j\n",
        "    z2 = Omp/kappam+0j\n",
        "    z3 = Om/kappap+0j\n",
        "    z4 = Omp/kappap+0j\n",
        "    Phi = Tau * ((np.arctan(Om / kappam) - np.arctan(Omp / kappam)) * kappam + (np.arctanh(z1) - np.arctanh(z2)) * kappam - (np.arctan(Om / kappap) - np.arctan(Omp / kappap)) * kappap - (np.arctanh(z3) - np.arctanh(z4)) * kappap)\n",
        "\n",
        "    #GW frequency and phase from orbital values\n",
        "    om = 2 * Om\n",
        "    phi = 2 * Phi\n",
        "\n",
        "    #complex psi4, psi4 = psi4_+ + i*psi4_x\n",
        "    psi4 = A * np.exp(i*phi)\n",
        "\n",
        "    #complex strain, h = h_+ + i*h_x. For quasicircular motion, psi4 ~ -omega^2*h\n",
        "    h = -((Mhalf / Mf) ** 2) * om ** (-2) * psi4                    #NB: if ~half the energy is radiated before the peak, this mass normalization makes the most sense\n",
        "    Ah = abs(h)                    #assuming quasicircularity, only strain amplitude and psi4 amplitude differ, not phases\n",
        "    phih = np.unwrap(np.angle(h))                    #at this point, phih = phipsi4, but we then shift phih to be zero at the strain peak\n",
        "    \n",
        "    plt.plot(t,Ah)\n",
        "    plt.show()\n",
        "    #calculating time, amplitude, and frequency of peak strain, shifting peak to t=tp\n",
        "    #the next 6 lines find the peak strain array value Aph, then fits a parabola to all\n",
        "    #values > pct*Aph, then uses that fit to find the interpolated \"true\" peak strain\n",
        "    Aph = max(Ah)\n",
        "    ind = Ah.tolist().index(Aph)\n",
        "    \n",
        "    distance_left, indexleft = cKDTree(np.c_[Ah[0:ind].ravel()]).query([pct * Aph], k=1)   \n",
        "    print(\"indexleft\", indexleft)\n",
        "\n",
        "###################################################    \n",
        "    print(\"Aph\", Aph)\n",
        "    #print(\"Ah\", Ah[0:ind])\n",
        "    #print(\"Ah[0:ind]\", Ah[0:ind])\n",
        "    #print(\"np.c_[Ah[0:ind].ravel()]\", np.c_[Ah[0:ind].ravel()])\n",
        "###################################################\n",
        "    \n",
        "    if ind+1 < len(Ah):\n",
        "        distance_right, indexright = cKDTree(np.c_[Ah[(ind + 1):].ravel()]).query([pct * Aph], k=1)\n",
        "    else:\n",
        "        indexright = len(Ah) -1\n",
        "        print(\"len - 1 has been used\")\n",
        "    print(\"indexright\", indexright)\n",
        "    \n",
        "    pcoeff = np.polyfit(t[indexleft:indexright], Ah[indexleft:indexright], 2)        \n",
        "    mu1 = np.mean(pcoeff)\n",
        "    mu2 = np.std(pcoeff)\n",
        "    tph = mu1 - mu2 * pcoeff[1] / 2 / pcoeff[0]                    #\"true\" peak time from fit\n",
        "    phih = phih - scipy.interpolate.spline(t, phih, tph) + phip #making the phase=phip at the interpolated peak time\n",
        "    #this strain has phase=0 at the strain peak\n",
        "    t = t - tph + tp                    #this shifts the time so that the peak occurs at tp, specified above\n",
        "    #NB: since all times are based on omqnm, which was normalized by Mf, and\n",
        "    #the peak strain fit Ap already accounts for Mf normalization, t and h are\n",
        "    #already appropriately normalized by Mf\n",
        "    \n",
        "    #truncating all data before the peak and after tmax. Note that t(1) will NOT be exactly zero,\n",
        "    #because the \"true\" peak occurred between data points and was interpolated.\n",
        "    #You can interpolate before you truncate if you really need t(1)=0.\n",
        "    distance_istart, istart = cKDTree(np.c_[t]).query([tp], k=1)\n",
        "    distance_istop, istop = cKDTree(np.c_[t]).query([tmax + tp], k=1)\n",
        "\n",
        "###################################################\n",
        "    print(\"istart = \", istart)\n",
        "    print(\"istop = \", istop)\n",
        "    print(\"distance_istart = \", distance_istart)\n",
        "    print(\"distance_istop = \", distance_istop)\n",
        "    print(\"istart = \", istart)\n",
        "    print(\"istop = \", istop)\n",
        "    print(\"t[indexleft:indexright] = \", t[indexleft:indexright])\n",
        "    print(\"Ah[indexleft:indexright] = \", Ah[indexleft:indexright])\n",
        "###################################################\n",
        "    \n",
        "    t = np.arange(istart,istop)\n",
        "    h = (istart,istop)\n",
        "\n",
        "    print(\"h = \", h)\n",
        "    print(\"t = \", t)\n",
        "    \n",
        "    return t, h\n",
        "  \n",
        "bob(0.69,0.95,0,0,1,100)"
      ],
      "execution_count": null,
      "outputs": [
        {
          "output_type": "display_data",
          "data": {
            "image/png": "[encoded data removed]",
            "text/plain": [
              "<Figure size 432x288 with 1 Axes>"
            ]
          },
          "metadata": {
            "tags": []
          }
        },
        {
          "output_type": "stream",
          "text": [
            "indexleft 123\n",
            "Aph 0.48632837712279486\n",
            "indexright 4\n"
          ],
          "name": "stdout"
        },
        {
          "output_type": "error",
          "ename": "TypeError",
          "evalue": "ignored",
          "traceback": [
            "\u001b[0;31m---------------------------------------------------------------------------\u001b[0m",
            "\u001b[0;31mTypeError\u001b[0m                                 Traceback (most recent call last)",
            "\u001b[0;32m<ipython-input-30-22204ed6dd91>\u001b[0m in \u001b[0;36m<module>\u001b[0;34m()\u001b[0m\n\u001b[1;32m    128\u001b[0m     \u001b[0;32mreturn\u001b[0m \u001b[0mt\u001b[0m\u001b[0;34m,\u001b[0m \u001b[0mh\u001b[0m\u001b[0;34m\u001b[0m\u001b[0;34m\u001b[0m\u001b[0m\n\u001b[1;32m    129\u001b[0m \u001b[0;34m\u001b[0m\u001b[0m\n\u001b[0;32m--> 130\u001b[0;31m \u001b[0mbob\u001b[0m\u001b[0;34m(\u001b[0m\u001b[0;36m0.69\u001b[0m\u001b[0;34m,\u001b[0m\u001b[0;36m0.95\u001b[0m\u001b[0;34m,\u001b[0m\u001b[0;36m0\u001b[0m\u001b[0;34m,\u001b[0m\u001b[0;36m0\u001b[0m\u001b[0;34m,\u001b[0m\u001b[0;36m1\u001b[0m\u001b[0;34m,\u001b[0m\u001b[0;36m100\u001b[0m\u001b[0;34m)\u001b[0m\u001b[0;34m\u001b[0m\u001b[0;34m\u001b[0m\u001b[0m\n\u001b[0m",
            "\u001b[0;32m<ipython-input-30-22204ed6dd91>\u001b[0m in \u001b[0;36mbob\u001b[0;34m(af, Mf, tp, phip, dt, tmax)\u001b[0m\n\u001b[1;32m     92\u001b[0m     \u001b[0mprint\u001b[0m\u001b[0;34m(\u001b[0m\u001b[0;34m\"indexright\"\u001b[0m\u001b[0;34m,\u001b[0m \u001b[0mindexright\u001b[0m\u001b[0;34m)\u001b[0m\u001b[0;34m\u001b[0m\u001b[0;34m\u001b[0m\u001b[0m\n\u001b[1;32m     93\u001b[0m \u001b[0;34m\u001b[0m\u001b[0m\n\u001b[0;32m---> 94\u001b[0;31m     \u001b[0mpcoeff\u001b[0m \u001b[0;34m=\u001b[0m \u001b[0mnp\u001b[0m\u001b[0;34m.\u001b[0m\u001b[0mpolyfit\u001b[0m\u001b[0;34m(\u001b[0m\u001b[0mt\u001b[0m\u001b[0;34m[\u001b[0m\u001b[0mindexleft\u001b[0m\u001b[0;34m:\u001b[0m\u001b[0mindexright\u001b[0m\u001b[0;34m]\u001b[0m\u001b[0;34m,\u001b[0m \u001b[0mAh\u001b[0m\u001b[0;34m[\u001b[0m\u001b[0mindexleft\u001b[0m\u001b[0;34m:\u001b[0m\u001b[0mindexright\u001b[0m\u001b[0;34m]\u001b[0m\u001b[0;34m,\u001b[0m \u001b[0;36m2\u001b[0m\u001b[0;34m)\u001b[0m\u001b[0;34m\u001b[0m\u001b[0;34m\u001b[0m\u001b[0m\n\u001b[0m\u001b[1;32m     95\u001b[0m     \u001b[0mmu1\u001b[0m \u001b[0;34m=\u001b[0m \u001b[0mnp\u001b[0m\u001b[0;34m.\u001b[0m\u001b[0mmean\u001b[0m\u001b[0;34m(\u001b[0m\u001b[0mpcoeff\u001b[0m\u001b[0;34m)\u001b[0m\u001b[0;34m\u001b[0m\u001b[0;34m\u001b[0m\u001b[0m\n\u001b[1;32m     96\u001b[0m     \u001b[0mmu2\u001b[0m \u001b[0;34m=\u001b[0m \u001b[0mnp\u001b[0m\u001b[0;34m.\u001b[0m\u001b[0mstd\u001b[0m\u001b[0;34m(\u001b[0m\u001b[0mpcoeff\u001b[0m\u001b[0;34m)\u001b[0m\u001b[0;34m\u001b[0m\u001b[0;34m\u001b[0m\u001b[0m\n",
            "\u001b[0;32m/usr/local/lib/python3.6/dist-packages/numpy/lib/polynomial.py\u001b[0m in \u001b[0;36mpolyfit\u001b[0;34m(x, y, deg, rcond, full, w, cov)\u001b[0m\n\u001b[1;32m    596\u001b[0m         \u001b[0;32mraise\u001b[0m \u001b[0mTypeError\u001b[0m\u001b[0;34m(\u001b[0m\u001b[0;34m\"expected 1D vector for x\"\u001b[0m\u001b[0;34m)\u001b[0m\u001b[0;34m\u001b[0m\u001b[0;34m\u001b[0m\u001b[0m\n\u001b[1;32m    597\u001b[0m     \u001b[0;32mif\u001b[0m \u001b[0mx\u001b[0m\u001b[0;34m.\u001b[0m\u001b[0msize\u001b[0m \u001b[0;34m==\u001b[0m \u001b[0;36m0\u001b[0m\u001b[0;34m:\u001b[0m\u001b[0;34m\u001b[0m\u001b[0;34m\u001b[0m\u001b[0m\n\u001b[0;32m--> 598\u001b[0;31m         \u001b[0;32mraise\u001b[0m \u001b[0mTypeError\u001b[0m\u001b[0;34m(\u001b[0m\u001b[0;34m\"expected non-empty vector for x\"\u001b[0m\u001b[0;34m)\u001b[0m\u001b[0;34m\u001b[0m\u001b[0;34m\u001b[0m\u001b[0m\n\u001b[0m\u001b[1;32m    599\u001b[0m     \u001b[0;32mif\u001b[0m \u001b[0my\u001b[0m\u001b[0;34m.\u001b[0m\u001b[0mndim\u001b[0m \u001b[0;34m<\u001b[0m \u001b[0;36m1\u001b[0m \u001b[0;32mor\u001b[0m \u001b[0my\u001b[0m\u001b[0;34m.\u001b[0m\u001b[0mndim\u001b[0m \u001b[0;34m>\u001b[0m \u001b[0;36m2\u001b[0m\u001b[0;34m:\u001b[0m\u001b[0;34m\u001b[0m\u001b[0;34m\u001b[0m\u001b[0m\n\u001b[1;32m    600\u001b[0m         \u001b[0;32mraise\u001b[0m \u001b[0mTypeError\u001b[0m\u001b[0;34m(\u001b[0m\u001b[0;34m\"expected 1D or 2D array for y\"\u001b[0m\u001b[0;34m)\u001b[0m\u001b[0;34m\u001b[0m\u001b[0;34m\u001b[0m\u001b[0m\n",
            "\u001b[0;31mTypeError\u001b[0m: expected non-empty vector for x"
          ]
        }
      ]
    },
    {
      "cell_type": "code",
      "metadata": {
        "id": "ldwYQ7RVMrA-",
        "outputId": "dc0290c8-d6c9-46f4-fc90-6e5e345025e7"
      },
      "source": [
        "import math\n",
        "import scipy\n",
        "import random\n",
        "import numpy as np\n",
        "import matplotlib.pyplot as plt\n",
        "import time\n",
        "import seaborn as sns\n",
        "#import bob\n",
        "\n",
        "#The BOB model needs the final mass, Mf, and the final spin, af, of the final merger remnant as inputs.\n",
        "#You can generate this however you want, but below, I use an NR fit to the\n",
        "#end-state that depends on the original binary parameters for aligned spins.\n",
        "\n",
        "#Original binary parameters\n",
        "q = 1\n",
        "a1 = 0\n",
        "a2 = 0\n",
        "\n",
        "#then the AEI fits (0712.3541,0904.2577,0907.0462) do the rest\n",
        "eta = q / (1 + q) ** 2 #symmetric mass ratio\n",
        "atilde = (q ** 2 * a1 + a2) / (q ** 2 + 1)\n",
        "p0 = 0.04826\n",
        "p1 = 0.01559\n",
        "p2 = 0.00485\n",
        "Mf = 1 - p0 - p1 * (a1 + a2) - p2 * (a1 + a2) ** 2\n",
        "s4 = -0.1229\n",
        "s5 = 0.4537\n",
        "t0 = -2.8904\n",
        "t2 = -3.5171\n",
        "t3 = 2.5763\n",
        "af = atilde + s4 * eta * atilde ** 2 + s5 * eta ** 2 * atilde + t0 * eta * atilde + 2 * math.sqrt(3) * eta + t2 * eta ** 2 + t3 * eta ** 3\n",
        "\n",
        "#to see the syntax including other options for this function, type \"help bob\"\n",
        "#[t, h] = bob(af, Mf)\n",
        "\n",
        "plt.plot(t,h)\n",
        "plt.show()\n",
        "\n",
        "#Make a pretty plot, obviously optional\n",
        "#font = mstring('Arial')\n",
        "#fontsize = 30\n",
        "#linewidth = 3\n",
        "#figure(1)\n",
        "#plot(t, real(h), mstring('LineWidth'), linewidth)\n",
        "#hold(mstring('all'))\n",
        "#plot(t, imag(h), mstring('LineWidth'), linewidth)\n",
        "#xlim(mcat([0, 100]))\n",
        "#xlabel(mstring('$t/M$'), mstring('FontSize'), fontsize, mstring('Interpreter'), mstring('latex'))\n",
        "#ylabel(mstring('$rh_{22}/M$'), mstring('FontSize'), fontsize, mstring('Interpreter'), mstring('latex'))\n",
        "#set(gca, mstring('FontSize'), fontsize, mstring('LineWidth'), linewidth)\n",
        "#legend(mcellarray([mstring('$r\\\\Re(h_{22})/M$'), mstring('$r\\\\Im(h_{22})/M$')]), mstring('FontSize'), fontsize, mstring('Interpreter'), mstring('latex'))"
      ],
      "execution_count": null,
      "outputs": [
        {
          "output_type": "error",
          "ename": "NameError",
          "evalue": "name 't' is not defined",
          "traceback": [
            "\u001b[0;31m---------------------------------------------------------------------------\u001b[0m",
            "\u001b[0;31mNameError\u001b[0m                                 Traceback (most recent call last)",
            "\u001b[0;32m<ipython-input-9-0361461a5d93>\u001b[0m in \u001b[0;36m<module>\u001b[0;34m\u001b[0m\n\u001b[1;32m     34\u001b[0m \u001b[0;31m#[t, h] = bob(af, Mf)\u001b[0m\u001b[0;34m\u001b[0m\u001b[0;34m\u001b[0m\u001b[0;34m\u001b[0m\u001b[0m\n\u001b[1;32m     35\u001b[0m \u001b[0;34m\u001b[0m\u001b[0m\n\u001b[0;32m---> 36\u001b[0;31m \u001b[0mplt\u001b[0m\u001b[0;34m.\u001b[0m\u001b[0mplot\u001b[0m\u001b[0;34m(\u001b[0m\u001b[0mt\u001b[0m\u001b[0;34m,\u001b[0m\u001b[0mh\u001b[0m\u001b[0;34m)\u001b[0m\u001b[0;34m\u001b[0m\u001b[0;34m\u001b[0m\u001b[0m\n\u001b[0m\u001b[1;32m     37\u001b[0m \u001b[0mplt\u001b[0m\u001b[0;34m.\u001b[0m\u001b[0mshow\u001b[0m\u001b[0;34m(\u001b[0m\u001b[0;34m)\u001b[0m\u001b[0;34m\u001b[0m\u001b[0;34m\u001b[0m\u001b[0m\n\u001b[1;32m     38\u001b[0m \u001b[0;34m\u001b[0m\u001b[0m\n",
            "\u001b[0;31mNameError\u001b[0m: name 't' is not defined"
          ]
        }
      ]
    },
    {
      "cell_type": "code",
      "metadata": {
        "id": "bCKJ1TuYMrBC",
        "outputId": "9a3794ef-56e5-4114-ef61-289a83b6919e"
      },
      "source": [
        "array  = [1,2,3,4,5]\n",
        "\n",
        "distance_right, indexright = cKDTree(array).query([2], k=1)\n"
      ],
      "execution_count": null,
      "outputs": [
        {
          "output_type": "error",
          "ename": "ValueError",
          "evalue": "Buffer has wrong number of dimensions (expected 2, got 1)",
          "traceback": [
            "\u001b[0;31m---------------------------------------------------------------------------\u001b[0m",
            "\u001b[0;31mValueError\u001b[0m                                Traceback (most recent call last)",
            "\u001b[0;32m<ipython-input-24-2d94c581a207>\u001b[0m in \u001b[0;36m<module>\u001b[0;34m\u001b[0m\n\u001b[1;32m      1\u001b[0m \u001b[0marray\u001b[0m  \u001b[0;34m=\u001b[0m \u001b[0;34m[\u001b[0m\u001b[0;36m1\u001b[0m\u001b[0;34m,\u001b[0m\u001b[0;36m2\u001b[0m\u001b[0;34m,\u001b[0m\u001b[0;36m3\u001b[0m\u001b[0;34m,\u001b[0m\u001b[0;36m4\u001b[0m\u001b[0;34m,\u001b[0m\u001b[0;36m5\u001b[0m\u001b[0;34m]\u001b[0m\u001b[0;34m\u001b[0m\u001b[0;34m\u001b[0m\u001b[0m\n\u001b[1;32m      2\u001b[0m \u001b[0;34m\u001b[0m\u001b[0m\n\u001b[0;32m----> 3\u001b[0;31m \u001b[0mdistance_right\u001b[0m\u001b[0;34m,\u001b[0m \u001b[0mindexright\u001b[0m \u001b[0;34m=\u001b[0m \u001b[0mcKDTree\u001b[0m\u001b[0;34m(\u001b[0m\u001b[0marray\u001b[0m\u001b[0;34m)\u001b[0m\u001b[0;34m.\u001b[0m\u001b[0mquery\u001b[0m\u001b[0;34m(\u001b[0m\u001b[0;34m[\u001b[0m\u001b[0;36m2\u001b[0m\u001b[0;34m]\u001b[0m\u001b[0;34m,\u001b[0m \u001b[0mk\u001b[0m\u001b[0;34m=\u001b[0m\u001b[0;36m1\u001b[0m\u001b[0;34m)\u001b[0m\u001b[0;34m\u001b[0m\u001b[0;34m\u001b[0m\u001b[0m\n\u001b[0m",
            "\u001b[0;32mckdtree.pyx\u001b[0m in \u001b[0;36mscipy.spatial.ckdtree.cKDTree.__init__\u001b[0;34m()\u001b[0m\n",
            "\u001b[0;31mValueError\u001b[0m: Buffer has wrong number of dimensions (expected 2, got 1)"
          ]
        }
      ]
    },
    {
      "cell_type": "code",
      "metadata": {
        "id": "0WRhttyhMrBG"
      },
      "source": [
        ""
      ],
      "execution_count": null,
      "outputs": []
    },
    {
      "cell_type": "code",
      "metadata": {
        "id": "XaOOVHkyMrBJ"
      },
      "source": [
        ""
      ],
      "execution_count": null,
      "outputs": []
    },
    {
      "cell_type": "code",
      "metadata": {
        "id": "M598MCgQMrBL"
      },
      "source": [
        ""
      ],
      "execution_count": null,
      "outputs": []
    },
    {
      "cell_type": "code",
      "metadata": {
        "id": "44oTGoYQMrBM"
      },
      "source": [
        ""
      ],
      "execution_count": null,
      "outputs": []
    },
    {
      "cell_type": "code",
      "metadata": {
        "id": "fbkBtl6eMrBN"
      },
      "source": [
        ""
      ],
      "execution_count": null,
      "outputs": []
    }
  ]
}